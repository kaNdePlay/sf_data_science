{
 "cells": [
  {
   "cell_type": "markdown",
   "metadata": {},
   "source": [
    "# Игра угадай число"
   ]
  },
  {
   "cell_type": "code",
   "execution_count": 3,
   "metadata": {},
   "outputs": [],
   "source": [
    "Игра угадай число\n",
    "\"\"\"Игра угадай число\n",
    "Компьютер сам загадывает и сам угадывает число\n",
    "\"\"\"\n",
    "\n",
    "import numpy as np\n",
    "\n",
    "\n",
    "def random_predict(number: int = 1) -> int:\n",
    "    \"\"\"Этот приём каждый раз в 2 раза сокращает область поиска, и \n",
    "            в конце нам становится легко угадать даже простым перебором.\n",
    "    Args:\n",
    "        number (int, optional): Загаданное число. Defaults to 1.\n",
    "    Returns:\n",
    "        int: Число попыток\n",
    "    \"\"\"\n",
    "    count = 0\n",
    "    min_num = 1\n",
    "    max_num = 101\n",
    "\n",
    "    while True:\n",
    "        count += 1\n",
    "        # сумма может быть нечетная - округляем\n",
    "        predict_number = int((max_num + min_num) / 2)  # предполагаемое число\n",
    "        if number == predict_number:\n",
    "            break  # выход из цикла, если угадали\n",
    "        if number > predict_number:\n",
    "            min_num = predict_number\n",
    "        else:\n",
    "            max_num = predict_number\n",
    "\n",
    "    return count\n",
    "Проверяем измененный алгоритм\n",
    "from game_v3 import score_game\n",
    "from game_v3 import random_predict\n",
    "\n",
    "score_game(random_predict)\n",
    "Алгоритм угадывает число в среднем за: 5 попыток\n",
    "5"
   ]
  },
  {
   "cell_type": "markdown",
   "metadata": {},
   "source": [
    "## Угадываем рандомно"
   ]
  }
 ],
 "metadata": {
  "kernelspec": {
   "display_name": "Python 3.11.0 64-bit",
   "language": "python",
   "name": "python3"
  },
  "language_info": {
   "codemirror_mode": {
    "name": "ipython",
    "version": 3
   },
   "file_extension": ".py",
   "mimetype": "text/x-python",
   "name": "python",
   "nbconvert_exporter": "python",
   "pygments_lexer": "ipython3",
   "version": "3.11.0"
  },
  "orig_nbformat": 4,
  "vscode": {
   "interpreter": {
    "hash": "251c5f4b778030d6c609d99aa17b4421361b674e64a57718eedff6c08a612b60"
   }
  }
 },
 "nbformat": 4,
 "nbformat_minor": 2
}
